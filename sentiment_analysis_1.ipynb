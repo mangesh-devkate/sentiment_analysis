{
 "cells": [
  {
   "cell_type": "markdown",
   "id": "25abe016",
   "metadata": {},
   "source": [
    "# sentiment analysis"
   ]
  },
  {
   "cell_type": "markdown",
   "id": "9d0c54df",
   "metadata": {},
   "source": [
    "## 1. importing all libraries"
   ]
  },
  {
   "cell_type": "code",
   "execution_count": 23,
   "id": "680fd081",
   "metadata": {},
   "outputs": [],
   "source": [
    "from nltk.tokenize import word_tokenize\n",
    "from nltk.stem import WordNetLemmatizer\n",
    "from sklearn.feature_extraction.text import CountVectorizer, TfidfVectorizer\n",
    "from sklearn.model_selection import train_test_split\n",
    "from sklearn.naive_bayes import MultinomialNB\n",
    "from sklearn.metrics import accuracy_score\n",
    "from nltk.corpus import stopwords\n",
    "import pandas as pd\n",
    "from string import punctuation"
   ]
  },
  {
   "cell_type": "code",
   "execution_count": 89,
   "id": "17c3b7cc",
   "metadata": {},
   "outputs": [],
   "source": [
    "from sklearn.metrics import classification_report, confusion_matrix"
   ]
  },
  {
   "cell_type": "code",
   "execution_count": 114,
   "id": "7dcbe2dd",
   "metadata": {},
   "outputs": [],
   "source": [
    "from sklearn.svm import SVC"
   ]
  },
  {
   "cell_type": "code",
   "execution_count": 130,
   "id": "81c78581",
   "metadata": {},
   "outputs": [],
   "source": [
    "from xgboost import XGBClassifier"
   ]
  },
  {
   "cell_type": "code",
   "execution_count": 143,
   "id": "e74c3205",
   "metadata": {},
   "outputs": [],
   "source": [
    "import seaborn as sns"
   ]
  },
  {
   "cell_type": "markdown",
   "id": "bbd8ec6c",
   "metadata": {},
   "source": [
    "## 2. data aquisition"
   ]
  },
  {
   "cell_type": "code",
   "execution_count": 8,
   "id": "400d8d47",
   "metadata": {},
   "outputs": [
    {
     "data": {
      "text/html": [
       "<div>\n",
       "<style scoped>\n",
       "    .dataframe tbody tr th:only-of-type {\n",
       "        vertical-align: middle;\n",
       "    }\n",
       "\n",
       "    .dataframe tbody tr th {\n",
       "        vertical-align: top;\n",
       "    }\n",
       "\n",
       "    .dataframe thead th {\n",
       "        text-align: right;\n",
       "    }\n",
       "</style>\n",
       "<table border=\"1\" class=\"dataframe\">\n",
       "  <thead>\n",
       "    <tr style=\"text-align: right;\">\n",
       "      <th></th>\n",
       "      <th>text</th>\n",
       "      <th>label</th>\n",
       "    </tr>\n",
       "  </thead>\n",
       "  <tbody>\n",
       "    <tr>\n",
       "      <th>0</th>\n",
       "      <td>I grew up (b. 1965) watching and loving the Th...</td>\n",
       "      <td>0</td>\n",
       "    </tr>\n",
       "    <tr>\n",
       "      <th>1</th>\n",
       "      <td>When I put this movie in my DVD player, and sa...</td>\n",
       "      <td>0</td>\n",
       "    </tr>\n",
       "    <tr>\n",
       "      <th>2</th>\n",
       "      <td>Why do people who do not know what a particula...</td>\n",
       "      <td>0</td>\n",
       "    </tr>\n",
       "    <tr>\n",
       "      <th>3</th>\n",
       "      <td>Even though I have great interest in Biblical ...</td>\n",
       "      <td>0</td>\n",
       "    </tr>\n",
       "    <tr>\n",
       "      <th>4</th>\n",
       "      <td>Im a die hard Dads Army fan and nothing will e...</td>\n",
       "      <td>1</td>\n",
       "    </tr>\n",
       "  </tbody>\n",
       "</table>\n",
       "</div>"
      ],
      "text/plain": [
       "                                                text  label\n",
       "0  I grew up (b. 1965) watching and loving the Th...      0\n",
       "1  When I put this movie in my DVD player, and sa...      0\n",
       "2  Why do people who do not know what a particula...      0\n",
       "3  Even though I have great interest in Biblical ...      0\n",
       "4  Im a die hard Dads Army fan and nothing will e...      1"
      ]
     },
     "execution_count": 8,
     "metadata": {},
     "output_type": "execute_result"
    }
   ],
   "source": [
    "df = pd.read_csv('Train.csv')\n",
    "df.head()"
   ]
  },
  {
   "cell_type": "code",
   "execution_count": 144,
   "id": "7b755d1b",
   "metadata": {},
   "outputs": [
    {
     "data": {
      "text/plain": [
       "<AxesSubplot:xlabel='label', ylabel='count'>"
      ]
     },
     "execution_count": 144,
     "metadata": {},
     "output_type": "execute_result"
    },
    {
     "data": {
      "image/png": "[encoded data removed]",
      "text/plain": [
       "<Figure size 432x288 with 1 Axes>"
      ]
     },
     "metadata": {
      "needs_background": "light"
     },
     "output_type": "display_data"
    }
   ],
   "source": [
    "sns.countplot(x=df['label'])"
   ]
  },
  {
   "cell_type": "markdown",
   "id": "6275e77a",
   "metadata": {},
   "source": [
    "## 3. data splitting"
   ]
  },
  {
   "cell_type": "code",
   "execution_count": 12,
   "id": "c0049b29",
   "metadata": {},
   "outputs": [],
   "source": [
    "X = df['text']\n",
    "y = df['label']"
   ]
  },
  {
   "cell_type": "code",
   "execution_count": 13,
   "id": "9c86d267",
   "metadata": {},
   "outputs": [],
   "source": [
    "X_train, X_test, y_train, y_test = train_test_split(X,y,test_size=0.2,random_state = 42, stratify = y)"
   ]
  },
  {
   "cell_type": "code",
   "execution_count": 15,
   "id": "9bb79084",
   "metadata": {},
   "outputs": [
    {
     "data": {
      "text/plain": [
       "0        0\n",
       "1        0\n",
       "2        0\n",
       "3        0\n",
       "4        1\n",
       "        ..\n",
       "39995    1\n",
       "39996    1\n",
       "39997    0\n",
       "39998    1\n",
       "39999    1\n",
       "Name: label, Length: 40000, dtype: int64"
      ]
     },
     "execution_count": 15,
     "metadata": {},
     "output_type": "execute_result"
    }
   ],
   "source": []
  },
  {
   "cell_type": "markdown",
   "id": "427b5701",
   "metadata": {},
   "source": [
    "## 4. basic preprocessing"
   ]
  },
  {
   "cell_type": "markdown",
   "id": "538efbc5",
   "metadata": {},
   "source": [
    "#### 4.1. tokenization"
   ]
  },
  {
   "cell_type": "code",
   "execution_count": 19,
   "id": "8e511f46",
   "metadata": {},
   "outputs": [],
   "source": [
    "def tokenization(data):\n",
    "    text = word_tokenize(data)\n",
    "    return text\n",
    "x_train_tokens = X_train.apply(tokenization)\n",
    "x_test_tokens = X_test.apply(tokenization)"
   ]
  },
  {
   "cell_type": "markdown",
   "id": "f8a6309e",
   "metadata": {},
   "source": [
    "#### 4.2 cleaning"
   ]
  },
  {
   "cell_type": "code",
   "execution_count": 25,
   "id": "f27d5e65",
   "metadata": {},
   "outputs": [],
   "source": [
    "# removing punctuations and numbers\n",
    "def cleaning(data):\n",
    "    text = [i for i in data if (i not in punctuation) and (i.isalpha())]\n",
    "    return text\n",
    "x_train_clean = x_train_tokens.apply(cleaning)\n",
    "x_test_clean = x_test_tokens.apply(cleaning)   "
   ]
  },
  {
   "cell_type": "markdown",
   "id": "17e0667f",
   "metadata": {},
   "source": [
    "#### 4.3 normalization"
   ]
  },
  {
   "cell_type": "code",
   "execution_count": 26,
   "id": "4c330c7b",
   "metadata": {},
   "outputs": [],
   "source": [
    "def normalization(data):\n",
    "    text = [i.lower() for i in data]\n",
    "    return text\n",
    "x_train_normalized = x_train_clean.apply(normalization)\n",
    "x_test_normalized = x_test_clean.apply(normalization)   "
   ]
  },
  {
   "cell_type": "markdown",
   "id": "8217c3ae",
   "metadata": {},
   "source": [
    "#### 4.4 stemming and lemmatization"
   ]
  },
  {
   "cell_type": "code",
   "execution_count": 30,
   "id": "f3e29bf0",
   "metadata": {},
   "outputs": [],
   "source": [
    "# lemmatization\n",
    "def lemmatization(data):\n",
    "    lemma = WordNetLemmatizer()\n",
    "    lemma_text = []\n",
    "    for i in data:\n",
    "        text = lemma.lemmatize(i)\n",
    "        lemma_text.append(text)\n",
    "    return lemma_text\n",
    "x_train_lemma = x_train_normalized.apply(lemmatization)\n",
    "x_test_lemma = x_test_normalized.apply(lemmatization)"
   ]
  },
  {
   "cell_type": "code",
   "execution_count": 32,
   "id": "e129a1b7",
   "metadata": {
    "scrolled": true
   },
   "outputs": [
    {
     "data": {
      "text/plain": [
       "34212    [if, i, accidentally, stumbled, across, this, ...\n",
       "295      [in, relative, term, having, watched, a, lot, ...\n",
       "28991    [i, will, admit, that, i, did, not, give, this...\n",
       "15196    [it, seems, that, there, is, great, potential,...\n",
       "16893    [belmondo, is, a, tough, cop, he, go, after, a...\n",
       "                               ...                        \n",
       "36427    [peach, is, truly, a, marvelous, film, i, writ...\n",
       "24080    [i, found, this, a, bit, hard, to, follow, to,...\n",
       "847      [one, of, the, worst, romantic, comedy, nay, w...\n",
       "8805     [i, attended, one, of, the, premiere, last, ni...\n",
       "36970    [it, been, a, long, time, since, i, last, saw,...\n",
       "Name: text, Length: 32000, dtype: object"
      ]
     },
     "execution_count": 32,
     "metadata": {},
     "output_type": "execute_result"
    }
   ],
   "source": [
    "x_train_lemma"
   ]
  },
  {
   "cell_type": "markdown",
   "id": "c5733bd8",
   "metadata": {},
   "source": [
    "#### 4.5 make a document "
   ]
  },
  {
   "cell_type": "code",
   "execution_count": 55,
   "id": "ee8f8446",
   "metadata": {},
   "outputs": [],
   "source": [
    "def doc(data):\n",
    "    text = ' '.join(data)\n",
    "    return text\n",
    "x_train_final = x_train_lemma.apply(doc)\n",
    "x_test_final = x_test_lemma.apply(doc)       "
   ]
  },
  {
   "cell_type": "code",
   "execution_count": 56,
   "id": "abaf9555",
   "metadata": {
    "scrolled": true
   },
   "outputs": [
    {
     "data": {
      "text/plain": [
       "34212    if i accidentally stumbled across this script ...\n",
       "295      in relative term having watched a lot of disgu...\n",
       "28991    i will admit that i did not give this movie mu...\n",
       "15196    it seems that there is great potential for the...\n",
       "16893    belmondo is a tough cop he go after a drug dea...\n",
       "                               ...                        \n",
       "36427    peach is truly a marvelous film i write this t...\n",
       "24080    i found this a bit hard to follow to the exten...\n",
       "847      one of the worst romantic comedy nay worst mov...\n",
       "8805     i attended one of the premiere last night and ...\n",
       "36970    it been a long time since i last saw a movie t...\n",
       "Name: text, Length: 32000, dtype: object"
      ]
     },
     "execution_count": 56,
     "metadata": {},
     "output_type": "execute_result"
    }
   ],
   "source": [
    "x_train_final"
   ]
  },
  {
   "cell_type": "markdown",
   "id": "78424aca",
   "metadata": {},
   "source": [
    "## 5. word embedding or vectorization"
   ]
  },
  {
   "cell_type": "markdown",
   "id": "64b4b0f6",
   "metadata": {},
   "source": [
    "#### count vectorizer"
   ]
  },
  {
   "cell_type": "code",
   "execution_count": 73,
   "id": "7d609b6f",
   "metadata": {},
   "outputs": [],
   "source": [
    "cv = CountVectorizer(lowercase = True, stop_words = 'english', max_df = 0.95, max_features = 1000)\n",
    "count_train = cv.fit_transform(x_train_final)\n",
    "count_test = cv.transform(x_test_final)"
   ]
  },
  {
   "cell_type": "code",
   "execution_count": 74,
   "id": "5f70a130",
   "metadata": {},
   "outputs": [
    {
     "data": {
      "text/plain": [
       "<32000x1000 sparse matrix of type '<class 'numpy.int64'>'\n",
       "\twith 1493703 stored elements in Compressed Sparse Row format>"
      ]
     },
     "execution_count": 74,
     "metadata": {},
     "output_type": "execute_result"
    }
   ],
   "source": [
    "count_train"
   ]
  },
  {
   "cell_type": "code",
   "execution_count": 75,
   "id": "a7102ca3",
   "metadata": {},
   "outputs": [
    {
     "data": {
      "text/plain": [
       "<8000x1000 sparse matrix of type '<class 'numpy.int64'>'\n",
       "\twith 376287 stored elements in Compressed Sparse Row format>"
      ]
     },
     "execution_count": 75,
     "metadata": {},
     "output_type": "execute_result"
    }
   ],
   "source": [
    "count_test"
   ]
  },
  {
   "cell_type": "code",
   "execution_count": 76,
   "id": "0bb96afb",
   "metadata": {
    "scrolled": true
   },
   "outputs": [
    {
     "data": {
      "text/plain": [
       "array([[0, 0, 0, ..., 0, 0, 0],\n",
       "       [0, 0, 0, ..., 0, 0, 0],\n",
       "       [0, 0, 0, ..., 1, 0, 0],\n",
       "       ...,\n",
       "       [0, 0, 0, ..., 0, 0, 0],\n",
       "       [0, 1, 0, ..., 0, 0, 0],\n",
       "       [0, 0, 0, ..., 0, 0, 0]], dtype=int64)"
      ]
     },
     "execution_count": 76,
     "metadata": {},
     "output_type": "execute_result"
    }
   ],
   "source": [
    "#creating array of count_train\n",
    "count_train.A"
   ]
  },
  {
   "cell_type": "code",
   "execution_count": 95,
   "id": "22561b9f",
   "metadata": {},
   "outputs": [
    {
     "data": {
      "text/plain": [
       "frozenset({'a',\n",
       "           'about',\n",
       "           'above',\n",
       "           'across',\n",
       "           'after',\n",
       "           'afterwards',\n",
       "           'again',\n",
       "           'against',\n",
       "           'all',\n",
       "           'almost',\n",
       "           'alone',\n",
       "           'along',\n",
       "           'already',\n",
       "           'also',\n",
       "           'although',\n",
       "           'always',\n",
       "           'am',\n",
       "           'among',\n",
       "           'amongst',\n",
       "           'amoungst',\n",
       "           'amount',\n",
       "           'an',\n",
       "           'and',\n",
       "           'another',\n",
       "           'any',\n",
       "           'anyhow',\n",
       "           'anyone',\n",
       "           'anything',\n",
       "           'anyway',\n",
       "           'anywhere',\n",
       "           'are',\n",
       "           'around',\n",
       "           'as',\n",
       "           'at',\n",
       "           'back',\n",
       "           'be',\n",
       "           'became',\n",
       "           'because',\n",
       "           'become',\n",
       "           'becomes',\n",
       "           'becoming',\n",
       "           'been',\n",
       "           'before',\n",
       "           'beforehand',\n",
       "           'behind',\n",
       "           'being',\n",
       "           'below',\n",
       "           'beside',\n",
       "           'besides',\n",
       "           'between',\n",
       "           'beyond',\n",
       "           'bill',\n",
       "           'both',\n",
       "           'bottom',\n",
       "           'but',\n",
       "           'by',\n",
       "           'call',\n",
       "           'can',\n",
       "           'cannot',\n",
       "           'cant',\n",
       "           'co',\n",
       "           'con',\n",
       "           'could',\n",
       "           'couldnt',\n",
       "           'cry',\n",
       "           'de',\n",
       "           'describe',\n",
       "           'detail',\n",
       "           'do',\n",
       "           'done',\n",
       "           'down',\n",
       "           'due',\n",
       "           'during',\n",
       "           'each',\n",
       "           'eg',\n",
       "           'eight',\n",
       "           'either',\n",
       "           'eleven',\n",
       "           'else',\n",
       "           'elsewhere',\n",
       "           'empty',\n",
       "           'enough',\n",
       "           'etc',\n",
       "           'even',\n",
       "           'ever',\n",
       "           'every',\n",
       "           'everyone',\n",
       "           'everything',\n",
       "           'everywhere',\n",
       "           'except',\n",
       "           'few',\n",
       "           'fifteen',\n",
       "           'fifty',\n",
       "           'fill',\n",
       "           'find',\n",
       "           'fire',\n",
       "           'first',\n",
       "           'five',\n",
       "           'for',\n",
       "           'former',\n",
       "           'formerly',\n",
       "           'forty',\n",
       "           'found',\n",
       "           'four',\n",
       "           'from',\n",
       "           'front',\n",
       "           'full',\n",
       "           'further',\n",
       "           'get',\n",
       "           'give',\n",
       "           'go',\n",
       "           'had',\n",
       "           'has',\n",
       "           'hasnt',\n",
       "           'have',\n",
       "           'he',\n",
       "           'hence',\n",
       "           'her',\n",
       "           'here',\n",
       "           'hereafter',\n",
       "           'hereby',\n",
       "           'herein',\n",
       "           'hereupon',\n",
       "           'hers',\n",
       "           'herself',\n",
       "           'him',\n",
       "           'himself',\n",
       "           'his',\n",
       "           'how',\n",
       "           'however',\n",
       "           'hundred',\n",
       "           'i',\n",
       "           'ie',\n",
       "           'if',\n",
       "           'in',\n",
       "           'inc',\n",
       "           'indeed',\n",
       "           'interest',\n",
       "           'into',\n",
       "           'is',\n",
       "           'it',\n",
       "           'its',\n",
       "           'itself',\n",
       "           'keep',\n",
       "           'last',\n",
       "           'latter',\n",
       "           'latterly',\n",
       "           'least',\n",
       "           'less',\n",
       "           'ltd',\n",
       "           'made',\n",
       "           'many',\n",
       "           'may',\n",
       "           'me',\n",
       "           'meanwhile',\n",
       "           'might',\n",
       "           'mill',\n",
       "           'mine',\n",
       "           'more',\n",
       "           'moreover',\n",
       "           'most',\n",
       "           'mostly',\n",
       "           'move',\n",
       "           'much',\n",
       "           'must',\n",
       "           'my',\n",
       "           'myself',\n",
       "           'name',\n",
       "           'namely',\n",
       "           'neither',\n",
       "           'never',\n",
       "           'nevertheless',\n",
       "           'next',\n",
       "           'nine',\n",
       "           'no',\n",
       "           'nobody',\n",
       "           'none',\n",
       "           'noone',\n",
       "           'nor',\n",
       "           'not',\n",
       "           'nothing',\n",
       "           'now',\n",
       "           'nowhere',\n",
       "           'of',\n",
       "           'off',\n",
       "           'often',\n",
       "           'on',\n",
       "           'once',\n",
       "           'one',\n",
       "           'only',\n",
       "           'onto',\n",
       "           'or',\n",
       "           'other',\n",
       "           'others',\n",
       "           'otherwise',\n",
       "           'our',\n",
       "           'ours',\n",
       "           'ourselves',\n",
       "           'out',\n",
       "           'over',\n",
       "           'own',\n",
       "           'part',\n",
       "           'per',\n",
       "           'perhaps',\n",
       "           'please',\n",
       "           'put',\n",
       "           'rather',\n",
       "           're',\n",
       "           'same',\n",
       "           'see',\n",
       "           'seem',\n",
       "           'seemed',\n",
       "           'seeming',\n",
       "           'seems',\n",
       "           'serious',\n",
       "           'several',\n",
       "           'she',\n",
       "           'should',\n",
       "           'show',\n",
       "           'side',\n",
       "           'since',\n",
       "           'sincere',\n",
       "           'six',\n",
       "           'sixty',\n",
       "           'so',\n",
       "           'some',\n",
       "           'somehow',\n",
       "           'someone',\n",
       "           'something',\n",
       "           'sometime',\n",
       "           'sometimes',\n",
       "           'somewhere',\n",
       "           'still',\n",
       "           'such',\n",
       "           'system',\n",
       "           'take',\n",
       "           'ten',\n",
       "           'than',\n",
       "           'that',\n",
       "           'the',\n",
       "           'their',\n",
       "           'them',\n",
       "           'themselves',\n",
       "           'then',\n",
       "           'thence',\n",
       "           'there',\n",
       "           'thereafter',\n",
       "           'thereby',\n",
       "           'therefore',\n",
       "           'therein',\n",
       "           'thereupon',\n",
       "           'these',\n",
       "           'they',\n",
       "           'thick',\n",
       "           'thin',\n",
       "           'third',\n",
       "           'this',\n",
       "           'those',\n",
       "           'though',\n",
       "           'three',\n",
       "           'through',\n",
       "           'throughout',\n",
       "           'thru',\n",
       "           'thus',\n",
       "           'to',\n",
       "           'together',\n",
       "           'too',\n",
       "           'top',\n",
       "           'toward',\n",
       "           'towards',\n",
       "           'twelve',\n",
       "           'twenty',\n",
       "           'two',\n",
       "           'un',\n",
       "           'under',\n",
       "           'until',\n",
       "           'up',\n",
       "           'upon',\n",
       "           'us',\n",
       "           'very',\n",
       "           'via',\n",
       "           'was',\n",
       "           'we',\n",
       "           'well',\n",
       "           'were',\n",
       "           'what',\n",
       "           'whatever',\n",
       "           'when',\n",
       "           'whence',\n",
       "           'whenever',\n",
       "           'where',\n",
       "           'whereafter',\n",
       "           'whereas',\n",
       "           'whereby',\n",
       "           'wherein',\n",
       "           'whereupon',\n",
       "           'wherever',\n",
       "           'whether',\n",
       "           'which',\n",
       "           'while',\n",
       "           'whither',\n",
       "           'who',\n",
       "           'whoever',\n",
       "           'whole',\n",
       "           'whom',\n",
       "           'whose',\n",
       "           'why',\n",
       "           'will',\n",
       "           'with',\n",
       "           'within',\n",
       "           'without',\n",
       "           'would',\n",
       "           'yet',\n",
       "           'you',\n",
       "           'your',\n",
       "           'yours',\n",
       "           'yourself',\n",
       "           'yourselves'})"
      ]
     },
     "execution_count": 95,
     "metadata": {},
     "output_type": "execute_result"
    }
   ],
   "source": [
    "cv.get_stop_words()"
   ]
  },
  {
   "cell_type": "code",
   "execution_count": 96,
   "id": "c006a3be",
   "metadata": {},
   "outputs": [
    {
     "data": {
      "text/plain": [
       "['ability',\n",
       " 'able',\n",
       " 'absolutely',\n",
       " 'accent',\n",
       " 'act',\n",
       " 'acted',\n",
       " 'acting',\n",
       " 'action',\n",
       " 'actor',\n",
       " 'actress',\n",
       " 'actual',\n",
       " 'actually',\n",
       " 'adaptation',\n",
       " 'add',\n",
       " 'added',\n",
       " 'admit',\n",
       " 'adult',\n",
       " 'adventure',\n",
       " 'affair',\n",
       " 'age',\n",
       " 'agent',\n",
       " 'ago',\n",
       " 'agree',\n",
       " 'air',\n",
       " 'alien',\n",
       " 'alive',\n",
       " 'amazing',\n",
       " 'america',\n",
       " 'american',\n",
       " 'amusing',\n",
       " 'animal',\n",
       " 'animated',\n",
       " 'animation',\n",
       " 'annoying',\n",
       " 'answer',\n",
       " 'apart',\n",
       " 'apparently',\n",
       " 'appeal',\n",
       " 'appear',\n",
       " 'appearance',\n",
       " 'appears',\n",
       " 'appreciate',\n",
       " 'area',\n",
       " 'army',\n",
       " 'art',\n",
       " 'artist',\n",
       " 'aside',\n",
       " 'ask',\n",
       " 'aspect',\n",
       " 'atmosphere',\n",
       " 'attack',\n",
       " 'attempt',\n",
       " 'attention',\n",
       " 'audience',\n",
       " 'average',\n",
       " 'avoid',\n",
       " 'award',\n",
       " 'away',\n",
       " 'awesome',\n",
       " 'awful',\n",
       " 'baby',\n",
       " 'background',\n",
       " 'bad',\n",
       " 'badly',\n",
       " 'band',\n",
       " 'bar',\n",
       " 'barely',\n",
       " 'based',\n",
       " 'basic',\n",
       " 'basically',\n",
       " 'battle',\n",
       " 'beat',\n",
       " 'beautiful',\n",
       " 'beauty',\n",
       " 'bed',\n",
       " 'begin',\n",
       " 'beginning',\n",
       " 'belief',\n",
       " 'believable',\n",
       " 'believe',\n",
       " 'ben',\n",
       " 'best',\n",
       " 'better',\n",
       " 'big',\n",
       " 'biggest',\n",
       " 'bit',\n",
       " 'bizarre',\n",
       " 'black',\n",
       " 'blood',\n",
       " 'blue',\n",
       " 'body',\n",
       " 'bond',\n",
       " 'book',\n",
       " 'bored',\n",
       " 'boring',\n",
       " 'bother',\n",
       " 'bought',\n",
       " 'box',\n",
       " 'boy',\n",
       " 'br',\n",
       " 'brain',\n",
       " 'break',\n",
       " 'brilliant',\n",
       " 'bring',\n",
       " 'brings',\n",
       " 'british',\n",
       " 'brother',\n",
       " 'brought',\n",
       " 'budget',\n",
       " 'building',\n",
       " 'bunch',\n",
       " 'business',\n",
       " 'buy',\n",
       " 'ca',\n",
       " 'called',\n",
       " 'came',\n",
       " 'camera',\n",
       " 'camp',\n",
       " 'capture',\n",
       " 'car',\n",
       " 'care',\n",
       " 'career',\n",
       " 'carry',\n",
       " 'cartoon',\n",
       " 'case',\n",
       " 'cast',\n",
       " 'casting',\n",
       " 'cat',\n",
       " 'catch',\n",
       " 'caught',\n",
       " 'cause',\n",
       " 'century',\n",
       " 'certain',\n",
       " 'certainly',\n",
       " 'chance',\n",
       " 'change',\n",
       " 'changed',\n",
       " 'channel',\n",
       " 'character',\n",
       " 'charles',\n",
       " 'charm',\n",
       " 'chase',\n",
       " 'cheap',\n",
       " 'check',\n",
       " 'cheesy',\n",
       " 'chemistry',\n",
       " 'child',\n",
       " 'choice',\n",
       " 'christmas',\n",
       " 'cinema',\n",
       " 'cinematography',\n",
       " 'city',\n",
       " 'class',\n",
       " 'classic',\n",
       " 'clear',\n",
       " 'clearly',\n",
       " 'clever',\n",
       " 'close',\n",
       " 'club',\n",
       " 'cold',\n",
       " 'college',\n",
       " 'color',\n",
       " 'come',\n",
       " 'comedy',\n",
       " 'comic',\n",
       " 'coming',\n",
       " 'comment',\n",
       " 'common',\n",
       " 'company',\n",
       " 'compared',\n",
       " 'complete',\n",
       " 'completely',\n",
       " 'complex',\n",
       " 'computer',\n",
       " 'concept',\n",
       " 'conclusion',\n",
       " 'consider',\n",
       " 'considered',\n",
       " 'considering',\n",
       " 'control',\n",
       " 'convincing',\n",
       " 'cool',\n",
       " 'cop',\n",
       " 'copy',\n",
       " 'cost',\n",
       " 'costume',\n",
       " 'country',\n",
       " 'couple',\n",
       " 'course',\n",
       " 'cover',\n",
       " 'crap',\n",
       " 'crazy',\n",
       " 'create',\n",
       " 'created',\n",
       " 'creature',\n",
       " 'credit',\n",
       " 'creepy',\n",
       " 'crew',\n",
       " 'crime',\n",
       " 'criminal',\n",
       " 'critic',\n",
       " 'cult',\n",
       " 'culture',\n",
       " 'cut',\n",
       " 'cute',\n",
       " 'dad',\n",
       " 'dance',\n",
       " 'dancing',\n",
       " 'dark',\n",
       " 'date',\n",
       " 'daughter',\n",
       " 'david',\n",
       " 'day',\n",
       " 'dead',\n",
       " 'deal',\n",
       " 'death',\n",
       " 'decent',\n",
       " 'decide',\n",
       " 'decided',\n",
       " 'decides',\n",
       " 'deep',\n",
       " 'definitely',\n",
       " 'depth',\n",
       " 'deserves',\n",
       " 'despite',\n",
       " 'detective',\n",
       " 'development',\n",
       " 'dialog',\n",
       " 'dialogue',\n",
       " 'did',\n",
       " 'die',\n",
       " 'died',\n",
       " 'difference',\n",
       " 'different',\n",
       " 'difficult',\n",
       " 'directed',\n",
       " 'directing',\n",
       " 'direction',\n",
       " 'director',\n",
       " 'disappointed',\n",
       " 'disney',\n",
       " 'disturbing',\n",
       " 'doctor',\n",
       " 'documentary',\n",
       " 'doe',\n",
       " 'dog',\n",
       " 'doing',\n",
       " 'door',\n",
       " 'doubt',\n",
       " 'drama',\n",
       " 'dramatic',\n",
       " 'dream',\n",
       " 'drive',\n",
       " 'drug',\n",
       " 'dull',\n",
       " 'dumb',\n",
       " 'dvd',\n",
       " 'earlier',\n",
       " 'early',\n",
       " 'earth',\n",
       " 'easily',\n",
       " 'easy',\n",
       " 'edge',\n",
       " 'editing',\n",
       " 'effect',\n",
       " 'effective',\n",
       " 'effort',\n",
       " 'element',\n",
       " 'emotion',\n",
       " 'emotional',\n",
       " 'end',\n",
       " 'ended',\n",
       " 'ending',\n",
       " 'english',\n",
       " 'enjoy',\n",
       " 'enjoyable',\n",
       " 'enjoyed',\n",
       " 'entertaining',\n",
       " 'entertainment',\n",
       " 'entire',\n",
       " 'entirely',\n",
       " 'episode',\n",
       " 'era',\n",
       " 'escape',\n",
       " 'especially',\n",
       " 'event',\n",
       " 'eventually',\n",
       " 'everybody',\n",
       " 'evil',\n",
       " 'exactly',\n",
       " 'example',\n",
       " 'excellent',\n",
       " 'exception',\n",
       " 'exciting',\n",
       " 'excuse',\n",
       " 'expect',\n",
       " 'expectation',\n",
       " 'expected',\n",
       " 'expecting',\n",
       " 'experience',\n",
       " 'explain',\n",
       " 'extra',\n",
       " 'extremely',\n",
       " 'eye',\n",
       " 'face',\n",
       " 'fact',\n",
       " 'failed',\n",
       " 'fails',\n",
       " 'fair',\n",
       " 'fairly',\n",
       " 'fake',\n",
       " 'fall',\n",
       " 'familiar',\n",
       " 'family',\n",
       " 'famous',\n",
       " 'fan',\n",
       " 'fantastic',\n",
       " 'fantasy',\n",
       " 'far',\n",
       " 'fast',\n",
       " 'father',\n",
       " 'favorite',\n",
       " 'fear',\n",
       " 'feature',\n",
       " 'feel',\n",
       " 'feeling',\n",
       " 'felt',\n",
       " 'female',\n",
       " 'festival',\n",
       " 'fiction',\n",
       " 'fight',\n",
       " 'fighting',\n",
       " 'figure',\n",
       " 'filled',\n",
       " 'film',\n",
       " 'filmed',\n",
       " 'filmmaker',\n",
       " 'final',\n",
       " 'finally',\n",
       " 'fine',\n",
       " 'fit',\n",
       " 'flat',\n",
       " 'flaw',\n",
       " 'flick',\n",
       " 'focus',\n",
       " 'folk',\n",
       " 'follow',\n",
       " 'following',\n",
       " 'follows',\n",
       " 'foot',\n",
       " 'footage',\n",
       " 'force',\n",
       " 'forced',\n",
       " 'forget',\n",
       " 'form',\n",
       " 'forward',\n",
       " 'frank',\n",
       " 'free',\n",
       " 'french',\n",
       " 'friend',\n",
       " 'fun',\n",
       " 'funny',\n",
       " 'future',\n",
       " 'gag',\n",
       " 'game',\n",
       " 'gang',\n",
       " 'garbage',\n",
       " 'gave',\n",
       " 'gay',\n",
       " 'gem',\n",
       " 'general',\n",
       " 'generally',\n",
       " 'genius',\n",
       " 'genre',\n",
       " 'george',\n",
       " 'german',\n",
       " 'getting',\n",
       " 'ghost',\n",
       " 'giant',\n",
       " 'girl',\n",
       " 'girlfriend',\n",
       " 'given',\n",
       " 'giving',\n",
       " 'glad',\n",
       " 'god',\n",
       " 'going',\n",
       " 'gone',\n",
       " 'good',\n",
       " 'gore',\n",
       " 'got',\n",
       " 'government',\n",
       " 'great',\n",
       " 'greatest',\n",
       " 'group',\n",
       " 'guess',\n",
       " 'gun',\n",
       " 'guy',\n",
       " 'ha',\n",
       " 'hair',\n",
       " 'half',\n",
       " 'hand',\n",
       " 'happen',\n",
       " 'happened',\n",
       " 'happens',\n",
       " 'happy',\n",
       " 'hard',\n",
       " 'hardly',\n",
       " 'hate',\n",
       " 'having',\n",
       " 'head',\n",
       " 'hear',\n",
       " 'heard',\n",
       " 'heart',\n",
       " 'hell',\n",
       " 'help',\n",
       " 'hero',\n",
       " 'high',\n",
       " 'highly',\n",
       " 'hilarious',\n",
       " 'historical',\n",
       " 'history',\n",
       " 'hit',\n",
       " 'hold',\n",
       " 'hole',\n",
       " 'hollywood',\n",
       " 'home',\n",
       " 'honest',\n",
       " 'honestly',\n",
       " 'hope',\n",
       " 'horrible',\n",
       " 'horror',\n",
       " 'horse',\n",
       " 'hot',\n",
       " 'hour',\n",
       " 'house',\n",
       " 'huge',\n",
       " 'human',\n",
       " 'humor',\n",
       " 'humour',\n",
       " 'hurt',\n",
       " 'husband',\n",
       " 'idea',\n",
       " 'image',\n",
       " 'imagine',\n",
       " 'imdb',\n",
       " 'immediately',\n",
       " 'important',\n",
       " 'impossible',\n",
       " 'impression',\n",
       " 'impressive',\n",
       " 'including',\n",
       " 'incredible',\n",
       " 'incredibly',\n",
       " 'indian',\n",
       " 'innocent',\n",
       " 'inside',\n",
       " 'instead',\n",
       " 'intelligent',\n",
       " 'interested',\n",
       " 'interesting',\n",
       " 'involved',\n",
       " 'involving',\n",
       " 'island',\n",
       " 'issue',\n",
       " 'italian',\n",
       " 'jack',\n",
       " 'james',\n",
       " 'jane',\n",
       " 'japanese',\n",
       " 'jim',\n",
       " 'job',\n",
       " 'joe',\n",
       " 'john',\n",
       " 'joke',\n",
       " 'jones',\n",
       " 'journey',\n",
       " 'just',\n",
       " 'kept',\n",
       " 'kid',\n",
       " 'kill',\n",
       " 'killed',\n",
       " 'killer',\n",
       " 'killing',\n",
       " 'kind',\n",
       " 'king',\n",
       " 'knew',\n",
       " 'know',\n",
       " 'known',\n",
       " 'la',\n",
       " 'lack',\n",
       " 'lady',\n",
       " 'lame',\n",
       " 'land',\n",
       " 'language',\n",
       " 'large',\n",
       " 'late',\n",
       " 'later',\n",
       " 'laugh',\n",
       " 'laughing',\n",
       " 'law',\n",
       " 'le',\n",
       " 'lead',\n",
       " 'leading',\n",
       " 'leaf',\n",
       " 'learn',\n",
       " 'leave',\n",
       " 'leaving',\n",
       " 'lee',\n",
       " 'left',\n",
       " 'let',\n",
       " 'level',\n",
       " 'lie',\n",
       " 'life',\n",
       " 'light',\n",
       " 'like',\n",
       " 'liked',\n",
       " 'line',\n",
       " 'list',\n",
       " 'literally',\n",
       " 'little',\n",
       " 'live',\n",
       " 'living',\n",
       " 'local',\n",
       " 'location',\n",
       " 'london',\n",
       " 'long',\n",
       " 'longer',\n",
       " 'look',\n",
       " 'looked',\n",
       " 'looking',\n",
       " 'lost',\n",
       " 'lot',\n",
       " 'love',\n",
       " 'loved',\n",
       " 'lover',\n",
       " 'low',\n",
       " 'machine',\n",
       " 'mad',\n",
       " 'main',\n",
       " 'major',\n",
       " 'make',\n",
       " 'maker',\n",
       " 'making',\n",
       " 'male',\n",
       " 'man',\n",
       " 'managed',\n",
       " 'manages',\n",
       " 'mark',\n",
       " 'married',\n",
       " 'master',\n",
       " 'masterpiece',\n",
       " 'match',\n",
       " 'material',\n",
       " 'matter',\n",
       " 'maybe',\n",
       " 'mean',\n",
       " 'meaning',\n",
       " 'meant',\n",
       " 'meet',\n",
       " 'member',\n",
       " 'memorable',\n",
       " 'memory',\n",
       " 'men',\n",
       " 'mention',\n",
       " 'mentioned',\n",
       " 'mess',\n",
       " 'message',\n",
       " 'michael',\n",
       " 'middle',\n",
       " 'military',\n",
       " 'million',\n",
       " 'mind',\n",
       " 'minute',\n",
       " 'miss',\n",
       " 'missed',\n",
       " 'missing',\n",
       " 'mistake',\n",
       " 'modern',\n",
       " 'moment',\n",
       " 'money',\n",
       " 'monster',\n",
       " 'mood',\n",
       " 'moral',\n",
       " 'mother',\n",
       " 'movie',\n",
       " 'moving',\n",
       " 'mr',\n",
       " 'murder',\n",
       " 'music',\n",
       " 'musical',\n",
       " 'mystery',\n",
       " 'naked',\n",
       " 'named',\n",
       " 'nature',\n",
       " 'near',\n",
       " 'nearly',\n",
       " 'need',\n",
       " 'needed',\n",
       " 'new',\n",
       " 'nice',\n",
       " 'night',\n",
       " 'normal',\n",
       " 'note',\n",
       " 'notice',\n",
       " 'novel',\n",
       " 'nudity',\n",
       " 'number',\n",
       " 'obvious',\n",
       " 'obviously',\n",
       " 'odd',\n",
       " 'offer',\n",
       " 'office',\n",
       " 'oh',\n",
       " 'ok',\n",
       " 'okay',\n",
       " 'old',\n",
       " 'older',\n",
       " 'open',\n",
       " 'opening',\n",
       " 'opera',\n",
       " 'opinion',\n",
       " 'opportunity',\n",
       " 'order',\n",
       " 'original',\n",
       " 'oscar',\n",
       " 'outside',\n",
       " 'overall',\n",
       " 'pace',\n",
       " 'parent',\n",
       " 'park',\n",
       " 'particular',\n",
       " 'particularly',\n",
       " 'party',\n",
       " 'past',\n",
       " 'pathetic',\n",
       " 'paul',\n",
       " 'pay',\n",
       " 'people',\n",
       " 'perfect',\n",
       " 'perfectly',\n",
       " 'performance',\n",
       " 'period',\n",
       " 'person',\n",
       " 'personal',\n",
       " 'personality',\n",
       " 'personally',\n",
       " 'peter',\n",
       " 'photography',\n",
       " 'pick',\n",
       " 'picture',\n",
       " 'piece',\n",
       " 'place',\n",
       " 'plain',\n",
       " 'plan',\n",
       " 'planet',\n",
       " 'play',\n",
       " 'played',\n",
       " 'player',\n",
       " 'playing',\n",
       " 'plenty',\n",
       " 'plot',\n",
       " 'plus',\n",
       " 'point',\n",
       " 'pointless',\n",
       " 'police',\n",
       " 'political',\n",
       " 'poor',\n",
       " 'poorly',\n",
       " 'popular',\n",
       " 'portrayal',\n",
       " 'portrayed',\n",
       " 'positive',\n",
       " 'possible',\n",
       " 'possibly',\n",
       " 'potential',\n",
       " 'power',\n",
       " 'powerful',\n",
       " 'predictable',\n",
       " 'premise',\n",
       " 'present',\n",
       " 'pretty',\n",
       " 'previous',\n",
       " 'prison',\n",
       " 'probably',\n",
       " 'problem',\n",
       " 'produced',\n",
       " 'producer',\n",
       " 'production',\n",
       " 'project',\n",
       " 'public',\n",
       " 'pull',\n",
       " 'pure',\n",
       " 'purpose',\n",
       " 'quality',\n",
       " 'question',\n",
       " 'quickly',\n",
       " 'quite',\n",
       " 'race',\n",
       " 'rare',\n",
       " 'rate',\n",
       " 'rating',\n",
       " 'read',\n",
       " 'reading',\n",
       " 'real',\n",
       " 'realistic',\n",
       " 'reality',\n",
       " 'realize',\n",
       " 'really',\n",
       " 'reason',\n",
       " 'recent',\n",
       " 'recently',\n",
       " 'recommend',\n",
       " 'recommended',\n",
       " 'red',\n",
       " 'reference',\n",
       " 'relationship',\n",
       " 'release',\n",
       " 'released',\n",
       " 'remake',\n",
       " 'remember',\n",
       " 'rent',\n",
       " 'respect',\n",
       " 'rest',\n",
       " 'result',\n",
       " 'return',\n",
       " 'revenge',\n",
       " 'review',\n",
       " 'reviewer',\n",
       " 'rich',\n",
       " 'richard',\n",
       " 'ride',\n",
       " 'ridiculous',\n",
       " 'right',\n",
       " 'ring',\n",
       " 'road',\n",
       " 'robert',\n",
       " 'rock',\n",
       " 'role',\n",
       " 'romance',\n",
       " 'romantic',\n",
       " 'room',\n",
       " 'run',\n",
       " 'running',\n",
       " 'sad',\n",
       " 'sadly',\n",
       " 'said',\n",
       " 'sam',\n",
       " 'save',\n",
       " 'saw',\n",
       " 'say',\n",
       " 'saying',\n",
       " 'scary',\n",
       " 'scene',\n",
       " 'scenery',\n",
       " 'school',\n",
       " 'science',\n",
       " 'scientist',\n",
       " 'score',\n",
       " 'scott',\n",
       " 'screen',\n",
       " 'screenplay',\n",
       " 'script',\n",
       " 'season',\n",
       " 'second',\n",
       " 'secret',\n",
       " 'seeing',\n",
       " 'seen',\n",
       " 'sense',\n",
       " 'sequel',\n",
       " 'sequence',\n",
       " 'series',\n",
       " 'seriously',\n",
       " 'set',\n",
       " 'setting',\n",
       " 'sex',\n",
       " 'sexual',\n",
       " 'sexy',\n",
       " 'shame',\n",
       " 'ship',\n",
       " 'shoot',\n",
       " 'shooting',\n",
       " 'short',\n",
       " 'shot',\n",
       " 'showed',\n",
       " 'showing',\n",
       " 'shown',\n",
       " 'sick',\n",
       " 'silent',\n",
       " 'silly',\n",
       " 'similar',\n",
       " 'simple',\n",
       " 'simply',\n",
       " 'singing',\n",
       " 'single',\n",
       " 'sister',\n",
       " 'sit',\n",
       " 'sitting',\n",
       " 'situation',\n",
       " 'slasher',\n",
       " 'slightly',\n",
       " 'slow',\n",
       " 'small',\n",
       " 'social',\n",
       " 'society',\n",
       " 'soldier',\n",
       " 'solid',\n",
       " 'somewhat',\n",
       " 'son',\n",
       " 'song',\n",
       " 'soon',\n",
       " 'sorry',\n",
       " 'sort',\n",
       " 'soul',\n",
       " 'sound',\n",
       " 'soundtrack',\n",
       " 'south',\n",
       " 'space',\n",
       " 'speak',\n",
       " 'special',\n",
       " 'spend',\n",
       " 'spent',\n",
       " 'spirit',\n",
       " 'spoiler',\n",
       " 'spot',\n",
       " 'stage',\n",
       " 'stand',\n",
       " 'standard',\n",
       " 'star',\n",
       " 'starring',\n",
       " 'start',\n",
       " 'started',\n",
       " 'state',\n",
       " 'stay',\n",
       " 'steal',\n",
       " 'step',\n",
       " 'stick',\n",
       " 'stop',\n",
       " 'store',\n",
       " 'story',\n",
       " 'storyline',\n",
       " 'straight',\n",
       " 'strange',\n",
       " 'street',\n",
       " 'strong',\n",
       " 'struggle',\n",
       " 'student',\n",
       " 'studio',\n",
       " 'stuff',\n",
       " 'stupid',\n",
       " 'style',\n",
       " 'subject',\n",
       " 'success',\n",
       " 'successful',\n",
       " 'suck',\n",
       " 'suddenly',\n",
       " 'superb',\n",
       " 'supporting',\n",
       " 'supposed',\n",
       " 'sure',\n",
       " 'surprise',\n",
       " 'surprised',\n",
       " 'surprisingly',\n",
       " 'suspense',\n",
       " 'sweet',\n",
       " 'taken',\n",
       " 'taking',\n",
       " 'tale',\n",
       " 'talent',\n",
       " 'talented',\n",
       " 'talk',\n",
       " 'talking',\n",
       " 'taste',\n",
       " 'team',\n",
       " 'teen',\n",
       " 'teenager',\n",
       " 'television',\n",
       " 'tell',\n",
       " 'telling',\n",
       " 'tension',\n",
       " 'term',\n",
       " 'terrible',\n",
       " 'thanks',\n",
       " 'theater',\n",
       " 'theme',\n",
       " 'thing',\n",
       " 'think',\n",
       " 'thinking',\n",
       " 'thought',\n",
       " 'thriller',\n",
       " 'throw',\n",
       " 'thrown',\n",
       " 'time',\n",
       " 'title',\n",
       " 'today',\n",
       " 'told',\n",
       " 'tom',\n",
       " 'tone',\n",
       " 'took',\n",
       " 'total',\n",
       " 'totally',\n",
       " 'touch',\n",
       " 'tough',\n",
       " 'town',\n",
       " 'track',\n",
       " 'trailer',\n",
       " 'train',\n",
       " 'trash',\n",
       " 'tried',\n",
       " 'trip',\n",
       " 'trouble',\n",
       " 'true',\n",
       " 'truly',\n",
       " 'truth',\n",
       " 'try',\n",
       " 'trying',\n",
       " 'turn',\n",
       " 'turned',\n",
       " 'tv',\n",
       " 'twist',\n",
       " 'type',\n",
       " 'typical',\n",
       " 'ultimately',\n",
       " 'understand',\n",
       " 'unfortunately',\n",
       " 'unique',\n",
       " 'unless',\n",
       " 'unlike',\n",
       " 'use',\n",
       " 'used',\n",
       " 'using',\n",
       " 'usual',\n",
       " 'usually',\n",
       " 'utterly',\n",
       " 'value',\n",
       " 'vampire',\n",
       " 'van',\n",
       " 'various',\n",
       " 'version',\n",
       " 'victim',\n",
       " 'video',\n",
       " 'view',\n",
       " 'viewer',\n",
       " 'viewing',\n",
       " 'villain',\n",
       " 'violence',\n",
       " 'violent',\n",
       " 'visual',\n",
       " 'voice',\n",
       " 'wa',\n",
       " 'wait',\n",
       " 'waiting',\n",
       " 'walk',\n",
       " 'want',\n",
       " 'wanted',\n",
       " 'war',\n",
       " 'waste',\n",
       " 'wasted',\n",
       " 'watch',\n",
       " 'watched',\n",
       " 'watching',\n",
       " 'water',\n",
       " 'way',\n",
       " 'weak',\n",
       " 'week',\n",
       " 'weird',\n",
       " 'went',\n",
       " 'west',\n",
       " 'western',\n",
       " 'white',\n",
       " 'wife',\n",
       " 'william',\n",
       " 'win',\n",
       " 'wish',\n",
       " 'wo',\n",
       " 'woman',\n",
       " 'won',\n",
       " 'wonder',\n",
       " 'wonderful',\n",
       " 'wood',\n",
       " 'word',\n",
       " 'work',\n",
       " 'worked',\n",
       " 'working',\n",
       " 'world',\n",
       " 'worse',\n",
       " 'worst',\n",
       " 'worth',\n",
       " 'write',\n",
       " 'writer',\n",
       " 'writing',\n",
       " 'written',\n",
       " 'wrong',\n",
       " 'wrote',\n",
       " 'yeah',\n",
       " 'year',\n",
       " 'yes',\n",
       " 'york',\n",
       " 'young',\n",
       " 'younger',\n",
       " 'zombie']"
      ]
     },
     "execution_count": 96,
     "metadata": {},
     "output_type": "execute_result"
    }
   ],
   "source": [
    "cv.get_feature_names()"
   ]
  },
  {
   "cell_type": "markdown",
   "id": "5988b175",
   "metadata": {},
   "source": [
    "# Multinomial Naive Bayes"
   ]
  },
  {
   "cell_type": "markdown",
   "id": "455f70e5",
   "metadata": {},
   "source": [
    "## model building"
   ]
  },
  {
   "cell_type": "code",
   "execution_count": 77,
   "id": "41ef8b89",
   "metadata": {},
   "outputs": [
    {
     "data": {
      "text/plain": [
       "MultinomialNB()"
      ]
     },
     "execution_count": 77,
     "metadata": {},
     "output_type": "execute_result"
    }
   ],
   "source": [
    "mnb = MultinomialNB()\n",
    "mnb.fit(count_train.A, y_train)"
   ]
  },
  {
   "cell_type": "markdown",
   "id": "b48c3a83",
   "metadata": {},
   "source": [
    "## model evaluation"
   ]
  },
  {
   "cell_type": "markdown",
   "id": "7039d479",
   "metadata": {},
   "source": [
    "#### testing accuracy"
   ]
  },
  {
   "cell_type": "code",
   "execution_count": 80,
   "id": "0aac29e8",
   "metadata": {},
   "outputs": [],
   "source": [
    "y_pred = mnb.predict(count_test.A)"
   ]
  },
  {
   "cell_type": "code",
   "execution_count": 82,
   "id": "8e02b80a",
   "metadata": {},
   "outputs": [
    {
     "data": {
      "text/plain": [
       "9387     0\n",
       "39770    1\n",
       "30024    1\n",
       "15381    1\n",
       "15923    1\n",
       "26921    0\n",
       "29828    1\n",
       "3854     0\n",
       "38621    1\n",
       "15369    0\n",
       "Name: label, dtype: int64"
      ]
     },
     "execution_count": 82,
     "metadata": {},
     "output_type": "execute_result"
    }
   ],
   "source": [
    "y_test[:10]"
   ]
  },
  {
   "cell_type": "code",
   "execution_count": 81,
   "id": "25d9c41d",
   "metadata": {
    "scrolled": true
   },
   "outputs": [
    {
     "data": {
      "text/plain": [
       "array([0, 1, 1, 1, 0, 1, 1, 0, 1, 1], dtype=int64)"
      ]
     },
     "execution_count": 81,
     "metadata": {},
     "output_type": "execute_result"
    }
   ],
   "source": [
    "y_pred[:10]"
   ]
  },
  {
   "cell_type": "code",
   "execution_count": 83,
   "id": "668f0a72",
   "metadata": {},
   "outputs": [
    {
     "data": {
      "text/plain": [
       "0.824625"
      ]
     },
     "execution_count": 83,
     "metadata": {},
     "output_type": "execute_result"
    }
   ],
   "source": [
    "accuracy_score(y_test,y_pred)"
   ]
  },
  {
   "cell_type": "code",
   "execution_count": 91,
   "id": "a6776e10",
   "metadata": {},
   "outputs": [
    {
     "name": "stdout",
     "output_type": "stream",
     "text": [
      "              precision    recall  f1-score   support\n",
      "\n",
      "           0       0.83      0.82      0.82      4004\n",
      "           1       0.82      0.83      0.83      3996\n",
      "\n",
      "    accuracy                           0.82      8000\n",
      "   macro avg       0.82      0.82      0.82      8000\n",
      "weighted avg       0.82      0.82      0.82      8000\n",
      "\n"
     ]
    }
   ],
   "source": [
    "clf_report = classification_report(y_test,y_pred)\n",
    "print(clf_report)"
   ]
  },
  {
   "cell_type": "code",
   "execution_count": 92,
   "id": "1cf32877",
   "metadata": {},
   "outputs": [
    {
     "data": {
      "text/plain": [
       "array([[3272,  732],\n",
       "       [ 671, 3325]], dtype=int64)"
      ]
     },
     "execution_count": 92,
     "metadata": {},
     "output_type": "execute_result"
    }
   ],
   "source": [
    "confusion_matrix(y_test,y_pred)"
   ]
  },
  {
   "cell_type": "markdown",
   "id": "d8fa8a78",
   "metadata": {},
   "source": [
    "#### training accuracy"
   ]
  },
  {
   "cell_type": "code",
   "execution_count": 84,
   "id": "4f33f0a2",
   "metadata": {},
   "outputs": [],
   "source": [
    "y_pred_train = mnb.predict(count_train.A)"
   ]
  },
  {
   "cell_type": "code",
   "execution_count": 85,
   "id": "62491c65",
   "metadata": {},
   "outputs": [
    {
     "data": {
      "text/plain": [
       "34212    0\n",
       "295      1\n",
       "28991    0\n",
       "15196    0\n",
       "16893    0\n",
       "32776    0\n",
       "35067    1\n",
       "23371    0\n",
       "27819    0\n",
       "13553    0\n",
       "Name: label, dtype: int64"
      ]
     },
     "execution_count": 85,
     "metadata": {},
     "output_type": "execute_result"
    }
   ],
   "source": [
    "y_train[:10]"
   ]
  },
  {
   "cell_type": "code",
   "execution_count": 86,
   "id": "2953f633",
   "metadata": {},
   "outputs": [
    {
     "data": {
      "text/plain": [
       "array([0, 1, 1, 0, 1, 1, 1, 0, 0, 0], dtype=int64)"
      ]
     },
     "execution_count": 86,
     "metadata": {},
     "output_type": "execute_result"
    }
   ],
   "source": [
    "y_pred_train[:10]"
   ]
  },
  {
   "cell_type": "code",
   "execution_count": 87,
   "id": "77e38875",
   "metadata": {},
   "outputs": [
    {
     "data": {
      "text/plain": [
       "0.8305625"
      ]
     },
     "execution_count": 87,
     "metadata": {},
     "output_type": "execute_result"
    }
   ],
   "source": [
    "accuracy_score(y_train, y_pred_train)"
   ]
  },
  {
   "cell_type": "code",
   "execution_count": 93,
   "id": "049307ad",
   "metadata": {},
   "outputs": [
    {
     "name": "stdout",
     "output_type": "stream",
     "text": [
      "              precision    recall  f1-score   support\n",
      "\n",
      "           0       0.84      0.82      0.83     16015\n",
      "           1       0.82      0.84      0.83     15985\n",
      "\n",
      "    accuracy                           0.83     32000\n",
      "   macro avg       0.83      0.83      0.83     32000\n",
      "weighted avg       0.83      0.83      0.83     32000\n",
      "\n"
     ]
    }
   ],
   "source": [
    "clf_report = classification_report(y_train, y_pred_train)\n",
    "print(clf_report)"
   ]
  },
  {
   "cell_type": "code",
   "execution_count": 94,
   "id": "af59221f",
   "metadata": {},
   "outputs": [
    {
     "data": {
      "text/plain": [
       "array([[13158,  2857],\n",
       "       [ 2565, 13420]], dtype=int64)"
      ]
     },
     "execution_count": 94,
     "metadata": {},
     "output_type": "execute_result"
    }
   ],
   "source": [
    "confusion_matrix(y_train, y_pred_train)"
   ]
  },
  {
   "cell_type": "markdown",
   "id": "8f718c98",
   "metadata": {},
   "source": [
    "# tfidf"
   ]
  },
  {
   "cell_type": "code",
   "execution_count": 97,
   "id": "7a57ae9d",
   "metadata": {},
   "outputs": [],
   "source": [
    "tf = TfidfVectorizer(lowercase = True,stop_words = 'english',max_df = 0.95, max_features = 1000)\n",
    "tf_train = tf.fit_transform(x_train_final)\n",
    "tf_test = tf.transform(x_test_final)"
   ]
  },
  {
   "cell_type": "code",
   "execution_count": 98,
   "id": "8cb8ea5c",
   "metadata": {},
   "outputs": [
    {
     "data": {
      "text/plain": [
       "<32000x1000 sparse matrix of type '<class 'numpy.float64'>'\n",
       "\twith 1493703 stored elements in Compressed Sparse Row format>"
      ]
     },
     "execution_count": 98,
     "metadata": {},
     "output_type": "execute_result"
    }
   ],
   "source": [
    "tf_train"
   ]
  },
  {
   "cell_type": "code",
   "execution_count": 99,
   "id": "2a9a5d3f",
   "metadata": {},
   "outputs": [
    {
     "data": {
      "text/plain": [
       "<8000x1000 sparse matrix of type '<class 'numpy.float64'>'\n",
       "\twith 376287 stored elements in Compressed Sparse Row format>"
      ]
     },
     "execution_count": 99,
     "metadata": {},
     "output_type": "execute_result"
    }
   ],
   "source": [
    "tf_test"
   ]
  },
  {
   "cell_type": "code",
   "execution_count": 100,
   "id": "60c6d1c5",
   "metadata": {},
   "outputs": [
    {
     "data": {
      "text/plain": [
       "array([[0.        , 0.        , 0.        , ..., 0.        , 0.        ,\n",
       "        0.        ],\n",
       "       [0.        , 0.        , 0.        , ..., 0.        , 0.        ,\n",
       "        0.        ],\n",
       "       [0.        , 0.        , 0.        , ..., 0.07645281, 0.        ,\n",
       "        0.        ],\n",
       "       ...,\n",
       "       [0.        , 0.        , 0.        , ..., 0.        , 0.        ,\n",
       "        0.        ],\n",
       "       [0.        , 0.07506571, 0.        , ..., 0.        , 0.        ,\n",
       "        0.        ],\n",
       "       [0.        , 0.        , 0.        , ..., 0.        , 0.        ,\n",
       "        0.        ]])"
      ]
     },
     "execution_count": 100,
     "metadata": {},
     "output_type": "execute_result"
    }
   ],
   "source": [
    "tf_train.A"
   ]
  },
  {
   "cell_type": "markdown",
   "id": "a6e9ddcf",
   "metadata": {},
   "source": [
    "# Multinomial Naive Bayes"
   ]
  },
  {
   "cell_type": "markdown",
   "id": "440ff40f",
   "metadata": {},
   "source": [
    "## model building"
   ]
  },
  {
   "cell_type": "code",
   "execution_count": 101,
   "id": "29ecd179",
   "metadata": {},
   "outputs": [
    {
     "data": {
      "text/plain": [
       "MultinomialNB()"
      ]
     },
     "execution_count": 101,
     "metadata": {},
     "output_type": "execute_result"
    }
   ],
   "source": [
    "mnb = MultinomialNB()\n",
    "mnb.fit(tf_train.A, y_train)"
   ]
  },
  {
   "cell_type": "markdown",
   "id": "e3a54be2",
   "metadata": {},
   "source": [
    "## model evaluation"
   ]
  },
  {
   "cell_type": "markdown",
   "id": "180070c3",
   "metadata": {},
   "source": [
    "#### testing accuracy"
   ]
  },
  {
   "cell_type": "code",
   "execution_count": 102,
   "id": "90e33bdd",
   "metadata": {},
   "outputs": [],
   "source": [
    "y_pred = mnb.predict(tf_test.A)"
   ]
  },
  {
   "cell_type": "code",
   "execution_count": 104,
   "id": "bcd64759",
   "metadata": {},
   "outputs": [
    {
     "data": {
      "text/plain": [
       "9387     0\n",
       "39770    1\n",
       "30024    1\n",
       "15381    1\n",
       "15923    1\n",
       "26921    0\n",
       "29828    1\n",
       "3854     0\n",
       "38621    1\n",
       "15369    0\n",
       "Name: label, dtype: int64"
      ]
     },
     "execution_count": 104,
     "metadata": {},
     "output_type": "execute_result"
    }
   ],
   "source": [
    "y_test[:10]"
   ]
  },
  {
   "cell_type": "code",
   "execution_count": 105,
   "id": "ef8652f9",
   "metadata": {},
   "outputs": [
    {
     "data": {
      "text/plain": [
       "array([0, 1, 1, 1, 0, 1, 1, 0, 1, 0], dtype=int64)"
      ]
     },
     "execution_count": 105,
     "metadata": {},
     "output_type": "execute_result"
    }
   ],
   "source": [
    "y_pred[:10]"
   ]
  },
  {
   "cell_type": "code",
   "execution_count": 106,
   "id": "9ea4bf1d",
   "metadata": {},
   "outputs": [
    {
     "data": {
      "text/plain": [
       "0.8315"
      ]
     },
     "execution_count": 106,
     "metadata": {},
     "output_type": "execute_result"
    }
   ],
   "source": [
    "accuracy_score(y_test,y_pred)"
   ]
  },
  {
   "cell_type": "code",
   "execution_count": 107,
   "id": "cfe39819",
   "metadata": {},
   "outputs": [
    {
     "name": "stdout",
     "output_type": "stream",
     "text": [
      "              precision    recall  f1-score   support\n",
      "\n",
      "           0       0.84      0.81      0.83      4004\n",
      "           1       0.82      0.85      0.83      3996\n",
      "\n",
      "    accuracy                           0.83      8000\n",
      "   macro avg       0.83      0.83      0.83      8000\n",
      "weighted avg       0.83      0.83      0.83      8000\n",
      "\n"
     ]
    }
   ],
   "source": [
    "clf_report = classification_report(y_test,y_pred)\n",
    "print(clf_report)"
   ]
  },
  {
   "cell_type": "code",
   "execution_count": 108,
   "id": "eb873527",
   "metadata": {},
   "outputs": [
    {
     "data": {
      "text/plain": [
       "array([[3263,  741],\n",
       "       [ 607, 3389]], dtype=int64)"
      ]
     },
     "execution_count": 108,
     "metadata": {},
     "output_type": "execute_result"
    }
   ],
   "source": [
    "confusion_matrix(y_test,y_pred)"
   ]
  },
  {
   "cell_type": "markdown",
   "id": "d1a4d1b6",
   "metadata": {},
   "source": [
    "#### training accuracy"
   ]
  },
  {
   "cell_type": "code",
   "execution_count": 109,
   "id": "7b3ea1a6",
   "metadata": {},
   "outputs": [],
   "source": [
    "y_pred_train = mnb.predict(tf_train.A)"
   ]
  },
  {
   "cell_type": "code",
   "execution_count": 110,
   "id": "4d1e77a1",
   "metadata": {},
   "outputs": [
    {
     "data": {
      "text/plain": [
       "0.839"
      ]
     },
     "execution_count": 110,
     "metadata": {},
     "output_type": "execute_result"
    }
   ],
   "source": [
    "accuracy_score(y_train,y_pred_train)"
   ]
  },
  {
   "cell_type": "code",
   "execution_count": 111,
   "id": "37832b2b",
   "metadata": {},
   "outputs": [
    {
     "name": "stdout",
     "output_type": "stream",
     "text": [
      "              precision    recall  f1-score   support\n",
      "\n",
      "           0       0.85      0.82      0.84     16015\n",
      "           1       0.83      0.85      0.84     15985\n",
      "\n",
      "    accuracy                           0.84     32000\n",
      "   macro avg       0.84      0.84      0.84     32000\n",
      "weighted avg       0.84      0.84      0.84     32000\n",
      "\n"
     ]
    }
   ],
   "source": [
    "clf_report = classification_report(y_train, y_pred_train)\n",
    "print(clf_report)"
   ]
  },
  {
   "cell_type": "code",
   "execution_count": 112,
   "id": "01b5a039",
   "metadata": {},
   "outputs": [
    {
     "data": {
      "text/plain": [
       "array([[13201,  2814],\n",
       "       [ 2338, 13647]], dtype=int64)"
      ]
     },
     "execution_count": 112,
     "metadata": {},
     "output_type": "execute_result"
    }
   ],
   "source": [
    "confusion_matrix(y_train, y_pred_train)"
   ]
  },
  {
   "cell_type": "markdown",
   "id": "4da8b034",
   "metadata": {},
   "source": [
    "# SVM"
   ]
  },
  {
   "cell_type": "markdown",
   "id": "e0ed6db9",
   "metadata": {},
   "source": [
    "## model building"
   ]
  },
  {
   "cell_type": "code",
   "execution_count": 119,
   "id": "6d48b0f0",
   "metadata": {},
   "outputs": [
    {
     "data": {
      "text/plain": [
       "SVC(C=2)"
      ]
     },
     "execution_count": 119,
     "metadata": {},
     "output_type": "execute_result"
    }
   ],
   "source": [
    "svclass = SVC(C=2,kernel = 'rbf')\n",
    "svclass.fit(tf_train.A,y_train)"
   ]
  },
  {
   "cell_type": "markdown",
   "id": "3634ba95",
   "metadata": {},
   "source": [
    "## model evaluation"
   ]
  },
  {
   "cell_type": "markdown",
   "id": "dd63da5c",
   "metadata": {},
   "source": [
    "#### testing accuracy"
   ]
  },
  {
   "cell_type": "code",
   "execution_count": 120,
   "id": "b99d9d5b",
   "metadata": {},
   "outputs": [],
   "source": [
    "y_pred = svclass.predict(tf_test.A)"
   ]
  },
  {
   "cell_type": "code",
   "execution_count": 121,
   "id": "5dba134c",
   "metadata": {},
   "outputs": [
    {
     "data": {
      "text/plain": [
       "0.860625"
      ]
     },
     "execution_count": 121,
     "metadata": {},
     "output_type": "execute_result"
    }
   ],
   "source": [
    "accuracy_score(y_test, y_pred)"
   ]
  },
  {
   "cell_type": "code",
   "execution_count": 124,
   "id": "015c86b1",
   "metadata": {},
   "outputs": [
    {
     "name": "stdout",
     "output_type": "stream",
     "text": [
      "              precision    recall  f1-score   support\n",
      "\n",
      "           0       0.87      0.85      0.86      4004\n",
      "           1       0.86      0.87      0.86      3996\n",
      "\n",
      "    accuracy                           0.86      8000\n",
      "   macro avg       0.86      0.86      0.86      8000\n",
      "weighted avg       0.86      0.86      0.86      8000\n",
      "\n"
     ]
    }
   ],
   "source": [
    "clf_report = classification_report(y_test,y_pred)\n",
    "print(clf_report)"
   ]
  },
  {
   "cell_type": "code",
   "execution_count": 125,
   "id": "eee0ac37",
   "metadata": {},
   "outputs": [
    {
     "data": {
      "text/plain": [
       "array([[3419,  585],\n",
       "       [ 530, 3466]], dtype=int64)"
      ]
     },
     "execution_count": 125,
     "metadata": {},
     "output_type": "execute_result"
    }
   ],
   "source": [
    "confusion_matrix(y_test,y_pred)"
   ]
  },
  {
   "cell_type": "markdown",
   "id": "71a3e316",
   "metadata": {},
   "source": [
    "#### training accuracy"
   ]
  },
  {
   "cell_type": "code",
   "execution_count": 126,
   "id": "12644aa5",
   "metadata": {},
   "outputs": [],
   "source": [
    "y_pred_train = svclass.predict(tf_train.A)"
   ]
  },
  {
   "cell_type": "code",
   "execution_count": 127,
   "id": "0ff01992",
   "metadata": {},
   "outputs": [
    {
     "data": {
      "text/plain": [
       "0.9919375"
      ]
     },
     "execution_count": 127,
     "metadata": {},
     "output_type": "execute_result"
    }
   ],
   "source": [
    "accuracy_score(y_train, y_pred_train)"
   ]
  },
  {
   "cell_type": "code",
   "execution_count": 128,
   "id": "0bebef5b",
   "metadata": {},
   "outputs": [
    {
     "name": "stdout",
     "output_type": "stream",
     "text": [
      "              precision    recall  f1-score   support\n",
      "\n",
      "           0       0.99      0.99      0.99     16015\n",
      "           1       0.99      0.99      0.99     15985\n",
      "\n",
      "    accuracy                           0.99     32000\n",
      "   macro avg       0.99      0.99      0.99     32000\n",
      "weighted avg       0.99      0.99      0.99     32000\n",
      "\n"
     ]
    }
   ],
   "source": [
    "clf_report = classification_report(y_train, y_pred_train)\n",
    "print(clf_report)"
   ]
  },
  {
   "cell_type": "code",
   "execution_count": 129,
   "id": "6aba95e2",
   "metadata": {},
   "outputs": [
    {
     "data": {
      "text/plain": [
       "array([[15890,   125],\n",
       "       [  133, 15852]], dtype=int64)"
      ]
     },
     "execution_count": 129,
     "metadata": {},
     "output_type": "execute_result"
    }
   ],
   "source": [
    "confusion_matrix(y_train, y_pred_train)"
   ]
  },
  {
   "cell_type": "markdown",
   "id": "afdae8e1",
   "metadata": {},
   "source": [
    "# XGB"
   ]
  },
  {
   "cell_type": "code",
   "execution_count": 132,
   "id": "946f5cd0",
   "metadata": {},
   "outputs": [],
   "source": [
    "import warnings\n",
    "warnings.filterwarnings('ignore')"
   ]
  },
  {
   "cell_type": "code",
   "execution_count": 133,
   "id": "c0aa1632",
   "metadata": {},
   "outputs": [
    {
     "name": "stdout",
     "output_type": "stream",
     "text": [
      "[15:09:16] WARNING: ..\\src\\learner.cc:1115: Starting in XGBoost 1.3.0, the default evaluation metric used with the objective 'binary:logistic' was changed from 'error' to 'logloss'. Explicitly set eval_metric if you'd like to restore the old behavior.\n"
     ]
    },
    {
     "data": {
      "text/plain": [
       "XGBClassifier(base_score=0.5, booster='gbtree', colsample_bylevel=1,\n",
       "              colsample_bynode=1, colsample_bytree=1, enable_categorical=False,\n",
       "              gamma=0, gpu_id=-1, importance_type=None,\n",
       "              interaction_constraints='', learning_rate=0.300000012,\n",
       "              max_delta_step=0, max_depth=6, min_child_weight=1, missing=nan,\n",
       "              monotone_constraints='()', n_estimators=100, n_jobs=4,\n",
       "              num_parallel_tree=1, predictor='auto', random_state=0,\n",
       "              reg_alpha=0, reg_lambda=1, scale_pos_weight=1, subsample=1,\n",
       "              tree_method='exact', validate_parameters=1, verbosity=None)"
      ]
     },
     "execution_count": 133,
     "metadata": {},
     "output_type": "execute_result"
    }
   ],
   "source": [
    "xgb = XGBClassifier()\n",
    "xgb.fit(tf_train.A, y_train)"
   ]
  },
  {
   "cell_type": "markdown",
   "id": "82e25cb4",
   "metadata": {},
   "source": [
    "## model evaluation"
   ]
  },
  {
   "cell_type": "markdown",
   "id": "a53ca815",
   "metadata": {},
   "source": [
    "#### testing accuracy"
   ]
  },
  {
   "cell_type": "code",
   "execution_count": 134,
   "id": "819ca7f7",
   "metadata": {},
   "outputs": [],
   "source": [
    "y_pred = xgb.predict(tf_test.A)"
   ]
  },
  {
   "cell_type": "code",
   "execution_count": 135,
   "id": "49a93747",
   "metadata": {},
   "outputs": [
    {
     "data": {
      "text/plain": [
       "0.837625"
      ]
     },
     "execution_count": 135,
     "metadata": {},
     "output_type": "execute_result"
    }
   ],
   "source": [
    "accuracy_score(y_test,y_pred)"
   ]
  },
  {
   "cell_type": "code",
   "execution_count": 136,
   "id": "1c4aeb7f",
   "metadata": {},
   "outputs": [
    {
     "name": "stdout",
     "output_type": "stream",
     "text": [
      "              precision    recall  f1-score   support\n",
      "\n",
      "           0       0.85      0.82      0.83      4004\n",
      "           1       0.82      0.86      0.84      3996\n",
      "\n",
      "    accuracy                           0.84      8000\n",
      "   macro avg       0.84      0.84      0.84      8000\n",
      "weighted avg       0.84      0.84      0.84      8000\n",
      "\n"
     ]
    }
   ],
   "source": [
    "clf_report = classification_report(y_test,y_pred)\n",
    "print(clf_report)"
   ]
  },
  {
   "cell_type": "code",
   "execution_count": 137,
   "id": "6b47c788",
   "metadata": {},
   "outputs": [
    {
     "data": {
      "text/plain": [
       "array([[3277,  727],\n",
       "       [ 572, 3424]], dtype=int64)"
      ]
     },
     "execution_count": 137,
     "metadata": {},
     "output_type": "execute_result"
    }
   ],
   "source": [
    "confusion_matrix(y_test,y_pred)"
   ]
  },
  {
   "cell_type": "markdown",
   "id": "4b8a8a9c",
   "metadata": {},
   "source": [
    "#### training accuracy"
   ]
  },
  {
   "cell_type": "code",
   "execution_count": 139,
   "id": "02370dde",
   "metadata": {},
   "outputs": [],
   "source": [
    "y_pred_train = xgb.predict(tf_train.A)"
   ]
  },
  {
   "cell_type": "code",
   "execution_count": 140,
   "id": "c4f56e53",
   "metadata": {},
   "outputs": [
    {
     "data": {
      "text/plain": [
       "0.931"
      ]
     },
     "execution_count": 140,
     "metadata": {},
     "output_type": "execute_result"
    }
   ],
   "source": [
    "accuracy_score(y_train, y_pred_train)"
   ]
  },
  {
   "cell_type": "code",
   "execution_count": 141,
   "id": "7afb3704",
   "metadata": {},
   "outputs": [
    {
     "name": "stdout",
     "output_type": "stream",
     "text": [
      "              precision    recall  f1-score   support\n",
      "\n",
      "           0       0.95      0.92      0.93     16015\n",
      "           1       0.92      0.95      0.93     15985\n",
      "\n",
      "    accuracy                           0.93     32000\n",
      "   macro avg       0.93      0.93      0.93     32000\n",
      "weighted avg       0.93      0.93      0.93     32000\n",
      "\n"
     ]
    }
   ],
   "source": [
    "clf_report = classification_report(y_train, y_pred_train)\n",
    "print(clf_report)"
   ]
  },
  {
   "cell_type": "code",
   "execution_count": 142,
   "id": "848c575d",
   "metadata": {},
   "outputs": [
    {
     "data": {
      "text/plain": [
       "array([[14657,  1358],\n",
       "       [  850, 15135]], dtype=int64)"
      ]
     },
     "execution_count": 142,
     "metadata": {},
     "output_type": "execute_result"
    }
   ],
   "source": [
    "confusion_matrix(y_train, y_pred_train)"
   ]
  },
  {
   "cell_type": "code",
   "execution_count": null,
   "id": "74b6dfdf",
   "metadata": {},
   "outputs": [],
   "source": []
  }
 ],
 "metadata": {
  "kernelspec": {
   "display_name": "Python 3",
   "language": "python",
   "name": "python3"
  },
  "language_info": {
   "codemirror_mode": {
    "name": "ipython",
    "version": 3
   },
   "file_extension": ".py",
   "mimetype": "text/x-python",
   "name": "python",
   "nbconvert_exporter": "python",
   "pygments_lexer": "ipython3",
   "version": "3.8.8"
  }
 },
 "nbformat": 4,
 "nbformat_minor": 5
}
